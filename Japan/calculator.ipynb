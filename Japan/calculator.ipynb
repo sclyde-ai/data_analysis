{
 "cells": [
  {
   "cell_type": "code",
   "execution_count": 9,
   "metadata": {},
   "outputs": [],
   "source": [
    "import yfinance as yf\n",
    "import pandas as pd\n",
    "import openpyxl\n",
    "import glob\n",
    "import os"
   ]
  },
  {
   "cell_type": "code",
   "execution_count": 2,
   "metadata": {},
   "outputs": [
    {
     "name": "stdout",
     "output_type": "stream",
     "text": [
      "{1: '食品', 5: '医薬品', 10: '情報通信・サービスその他', 12: '運輸・物流', 3: '建設・資材', 14: '小売', 17: '不動産', 7: '鉄鋼・非鉄', 2: 'エネルギー資源', 13: '商社・卸売', 16: '金融（除く銀行）', 11: '電力・ガス', 4: '素材・化学', 8: '機械', 9: '電機・精密', 6: '自動車・輸送機', 15: '銀行'}\n",
      "{50: '水産・農林業', 3250: '医薬品', 5250: '情報・通信業', 5050: '陸運業', 9050: 'サービス業', 2050: '建設業', 6100: '小売業', 8050: '不動産業', 3500: '非鉄金属', 1050: '鉱業', 3800: 'その他製品', 6050: '卸売業', 7200: 'その他金融業', 7100: '証券、商品先物取引業', 4050: '電気・ガス業', 3200: '化学', 3600: '機械', 3050: '食料品', 3150: 'パルプ・紙', 3750: '精密機器', 3650: '電気機器', 3550: '金属製品', 3100: '繊維製品', 3400: 'ガラス・土石製品', 3700: '輸送用機器', 3300: '石油・石炭製品', 3350: 'ゴム製品', 3450: '鉄鋼', 7050: '銀行業', 7150: '保険業', 5200: '倉庫・運輸関連業', 5100: '海運業', 5150: '空運業'}\n"
     ]
    }
   ],
   "source": [
    "df = pd.read_excel('../data/tse/data_j.xls')\n",
    "# df.columns\n",
    "df17 = df[df['17業種コード'] != '-']\n",
    "df33 = df[df['33業種コード'] != '-']\n",
    "\n",
    "tse17_code = df17['17業種コード'].unique()\n",
    "tse17_sector = df17['17業種区分'].unique()\n",
    "\n",
    "tse33_code = df33['33業種コード'].unique()\n",
    "tse33_sector = df33['33業種区分'].unique()\n",
    "\n",
    "tse17 = dict(zip(tse17_code, tse17_sector))\n",
    "tse33 = dict(zip(tse33_code, tse33_sector))\n",
    "\n",
    "print(tse17)\n",
    "print(tse33)\n",
    "\n",
    "tse17_code_dict = {}\n",
    "tse33_code_dict = {}\n",
    "\n",
    "for i in tse17:\n",
    "    tse17_code_dict[i] = list(df[df['17業種コード'] == i]['コード'])\n",
    "\n",
    "for i in tse33:\n",
    "    tse33_code_dict[i] = list(df[df['33業種コード'] == i]['コード'])\n",
    "\n",
    "intervals = [\n",
    "    \"1m\", \"2m\", \"5m\", \"15m\", \"30m\", \"60m\", \"90m\", \"1h\", \"1d\", \"5d\", \"1wk\", \"1mo\", \"3mo\"\n",
    "]"
   ]
  },
  {
   "cell_type": "code",
   "execution_count": null,
   "metadata": {},
   "outputs": [
    {
     "name": "stderr",
     "output_type": "stream",
     "text": [
      "$1301.T: possibly delisted; no price data found  (2m 1926-03-06 23:05:01+09:00 -> 2025-02-09 23:05:01+09:00) (Yahoo error = \"2m data not available for startTime=978307200 and endTime=1739109896. The requested range must be within the last 60 days.\")\n",
      "$1332.T: possibly delisted; no price data found  (2m 1926-03-06 23:05:10+09:00 -> 2025-02-09 23:05:10+09:00) (Yahoo error = \"2m data not available for startTime=946944000 and endTime=1739109905. The requested range must be within the last 60 days.\")\n",
      "$1333.T: possibly delisted; no price data found  (2m 1926-03-06 23:05:19+09:00 -> 2025-02-09 23:05:19+09:00) (Yahoo error = \"2m data not available for startTime=1396310400 and endTime=1739109914. The requested range must be within the last 60 days.\")\n",
      "$1375.T: possibly delisted; no price data found  (2m 1926-03-06 23:05:26+09:00 -> 2025-02-09 23:05:26+09:00) (Yahoo error = \"2m data not available for startTime=1600300800 and endTime=1739109921. The requested range must be within the last 60 days.\")\n",
      "Exception ignored in: <bound method IPythonKernel._clean_thread_parent_frames of <ipykernel.ipkernel.IPythonKernel object at 0x7f9f81dbedc0>>\n",
      "Traceback (most recent call last):\n",
      "  File \"/home/sclyde/.local/lib/python3.8/site-packages/ipykernel/ipkernel.py\", line 775, in _clean_thread_parent_frames\n",
      "    def _clean_thread_parent_frames(\n",
      "KeyboardInterrupt: \n",
      "$1376.T: possibly delisted; no price data found  (2m 1926-03-06 23:05:33+09:00 -> 2025-02-09 23:05:33+09:00) (Yahoo error = \"2m data not available for startTime=947030400 and endTime=1739109929. The requested range must be within the last 60 days.\")\n",
      "$1377.T: possibly delisted; no price data found  (2m 1926-03-06 23:05:40+09:00 -> 2025-02-09 23:05:40+09:00) (Yahoo error = \"2m data not available for startTime=978307200 and endTime=1739109936. The requested range must be within the last 60 days.\")\n"
     ]
    }
   ],
   "source": [
    "target_dir = \"./stock/tse17\"\n",
    "\n",
    "# 各銘柄コードごとに処理\n",
    "for i in tse17:\n",
    "    folder_name = f\"{tse17[i]}\" # Excelファイル名を設定\n",
    "    folder_path = os.path.join(target_dir, folder_name)\n",
    "    if not os.path.exists(folder_path):  # フォルダが存在しない場合のみ作成\n",
    "        os.makedirs(folder_path)\n",
    "    for code in tse17_code_dict[i]:\n",
    "        file_name = f\"{folder_path}/{code}.xlsx\"\n",
    "        ticker = yf.Ticker(f\"{code}.T\")\n",
    "        with pd.ExcelWriter(file_name, engine='openpyxl') as writer: # ExcelWriterを作成\n",
    "            for interval in intervals:\n",
    "                hist = ticker.history(period=\"max\", interval=interval) \n",
    "                # print(hist)\n",
    "                if not hist.empty:\n",
    "                    hist['Drift'] = (hist['Close'] - hist['Open']) / hist['Open'] # Driftを計算\n",
    "                    hist.index = hist.index.tz_localize(None)\n",
    "                    sheet_name = f\"{interval}\" # シート名を設定\n",
    "                    hist.to_excel(writer, sheet_name=sheet_name, index=True) # データをExcelに保存\n",
    "                \n",
    "    print(f\"Saved {folder_name}\")"
   ]
  },
  {
   "cell_type": "code",
   "execution_count": null,
   "metadata": {},
   "outputs": [],
   "source": [
    "# directory = \"./stock/tse33\"\n",
    "\n",
    "# # 各銘柄コードごとに処理\n",
    "# for i in tse33:\n",
    "#     # Excelファイル名を設定\n",
    "#     excel_file_name = f\"{directory}/{tse33[i]}.xlsx\"\n",
    "#     # ExcelWriterを作成\n",
    "#     with pd.ExcelWriter(excel_file_name, engine='openpyxl') as writer:\n",
    "#         for code in tse33_code_dict[i]:\n",
    "#             # データをダウンロード\n",
    "#             STOCK_download = yf.download(tickers=f\"{code}.T\", period=\"max\", interval=\"1d\")\n",
    "            \n",
    "#             # データが空でない場合\n",
    "#             if not STOCK_download.empty:\n",
    "#                 # Driftを計算\n",
    "#                 STOCK_download['Drift'] = (STOCK_download['Close'] - STOCK_download['Open']) / STOCK_download['Open']\n",
    "                \n",
    "#                 # シート名を設定（銘柄コードを使用）\n",
    "#                 sheet_name = f\"{code}\"\n",
    "                \n",
    "#                 # データをExcelに保存\n",
    "#                 STOCK_download.to_excel(writer, sheet_name=sheet_name, index=True)\n",
    "                \n",
    "#     print(f\"Saved {excel_file_name}\")"
   ]
  }
 ],
 "metadata": {
  "kernelspec": {
   "display_name": "Python 3",
   "language": "python",
   "name": "python3"
  },
  "language_info": {
   "codemirror_mode": {
    "name": "ipython",
    "version": 3
   },
   "file_extension": ".py",
   "mimetype": "text/x-python",
   "name": "python",
   "nbconvert_exporter": "python",
   "pygments_lexer": "ipython3",
   "version": "3.8.10"
  }
 },
 "nbformat": 4,
 "nbformat_minor": 2
}

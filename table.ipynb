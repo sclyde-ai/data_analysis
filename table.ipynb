{
 "cells": [
  {
   "cell_type": "code",
   "execution_count": null,
   "metadata": {},
   "outputs": [],
   "source": [
    "isic_jsic_mapping = [\n",
    "    {\"ISIC\": \"A\", \"ISIC_Name\": \"農業、林業、漁業\", \"JSIC\": \"A\", \"JSIC_Name\": \"農業、林業\"},\n",
    "    {\"ISIC\": \"A\", \"ISIC_Name\": \"農業、林業、漁業\", \"JSIC\": \"B\", \"JSIC_Name\": \"漁業\"},\n",
    "    {\"ISIC\": \"B\", \"ISIC_Name\": \"鉱業、採石業\", \"JSIC\": \"C\", \"JSIC_Name\": \"鉱業、採石業、砂利採取業\"},\n",
    "    {\"ISIC\": \"C\", \"ISIC_Name\": \"製造業\", \"JSIC\": \"E\", \"JSIC_Name\": \"製造業\"},\n",
    "    {\"ISIC\": \"D\", \"ISIC_Name\": \"電気、ガス、蒸気及び空調供給業\", \"JSIC\": \"F\", \"JSIC_Name\": \"電気・ガス・熱供給・水道業\"},\n",
    "    {\"ISIC\": \"E\", \"ISIC_Name\": \"水道業、廃棄物処理、廃棄物処理業\", \"JSIC\": \"F\", \"JSIC_Name\": \"電気・ガス・熱供給・水道業\"},\n",
    "    {\"ISIC\": \"F\", \"ISIC_Name\": \"建設業\", \"JSIC\": \"D\", \"JSIC_Name\": \"建設業\"},\n",
    "    {\"ISIC\": \"G\", \"ISIC_Name\": \"卸売業、小売業\", \"JSIC\": \"I\", \"JSIC_Name\": \"卸売業、小売業\"},\n",
    "    {\"ISIC\": \"H\", \"ISIC_Name\": \"運輸業、郵便業\", \"JSIC\": \"H\", \"JSIC_Name\": \"運輸業、郵便業\"},\n",
    "    {\"ISIC\": \"I\", \"ISIC_Name\": \"宿泊業、飲食サービス業\", \"JSIC\": \"M\", \"JSIC_Name\": \"宿泊業、飲食サービス業\"},\n",
    "    {\"ISIC\": \"J\", \"ISIC_Name\": \"情報通信業\", \"JSIC\": \"G\", \"JSIC_Name\": \"情報通信業\"},\n",
    "    {\"ISIC\": \"K\", \"ISIC_Name\": \"金融業、保険業\", \"JSIC\": \"J\", \"JSIC_Name\": \"金融業、保険業\"},\n",
    "    {\"ISIC\": \"L\", \"ISIC_Name\": \"不動産業\", \"JSIC\": \"K\", \"JSIC_Name\": \"不動産業、物品賃貸業\"},\n",
    "    {\"ISIC\": \"M\", \"ISIC_Name\": \"専門的、科学的及び技術的サービス業\", \"JSIC\": \"L\", \"JSIC_Name\": \"学術研究、専門・技術サービス業\"},\n",
    "    {\"ISIC\": \"N\", \"ISIC_Name\": \"事業施設管理業、事業支援及び補助的サービス業\", \"JSIC\": \"R\", \"JSIC_Name\": \"サービス業（他に分類されないもの）\"},\n",
    "    {\"ISIC\": \"O\", \"ISIC_Name\": \"公務（他に分類されないもの）\", \"JSIC\": \"S\", \"JSIC_Name\": \"公務（他に分類されないもの）\"},\n",
    "    {\"ISIC\": \"P\", \"ISIC_Name\": \"教育\", \"JSIC\": \"O\", \"JSIC_Name\": \"教育、学習支援業\"},\n",
    "    {\"ISIC\": \"Q\", \"ISIC_Name\": \"保健衛生及び社会事業\", \"JSIC\": \"P\", \"JSIC_Name\": \"医療、福祉\"},\n",
    "    {\"ISIC\": \"R\", \"ISIC_Name\": \"芸術、娯楽及びレクリエーション\", \"JSIC\": \"N\", \"JSIC_Name\": \"生活関連サービス業、娯楽業\"},\n",
    "    {\"ISIC\": \"S\", \"ISIC_Name\": \"その他のサービス業\", \"JSIC\": \"R\", \"JSIC_Name\": \"サービス業（他に分類されないもの）\"},\n",
    "    {\"ISIC\": \"T\", \"ISIC_Name\": \"家庭内生産活動\", \"JSIC\": None, \"JSIC_Name\": \"該当なし\"},\n",
    "    {\"ISIC\": \"U\", \"ISIC_Name\": \"国際機関及び外国公館\", \"JSIC\": None, \"JSIC_Name\": \"該当なし\"}\n",
    "]\n",
    "\n",
    "# 対応表を表示\n",
    "for mapping in isic_jsic_mapping:\n",
    "    print(f\"ISIC: {mapping['ISIC']} ({mapping['ISIC_Name']}) -> JSIC: {mapping['JSIC']} ({mapping['JSIC_Name']})\")"
   ]
  }
 ],
 "metadata": {
  "language_info": {
   "name": "python"
  }
 },
 "nbformat": 4,
 "nbformat_minor": 2
}
